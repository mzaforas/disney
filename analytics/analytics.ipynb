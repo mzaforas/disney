{
 "cells": [
  {
   "cell_type": "code",
   "execution_count": 2,
   "metadata": {},
   "outputs": [],
   "source": [
    "import pandas as pd\n",
    "import json"
   ]
  },
  {
   "cell_type": "code",
   "execution_count": 15,
   "metadata": {},
   "outputs": [],
   "source": [
    "query_result = json.load(open('../dynamodb/query_result.json'))\n",
    "df=pd.DataFrame(items['Items'])"
   ]
  },
  {
   "cell_type": "code",
   "execution_count": 16,
   "metadata": {},
   "outputs": [
    {
     "data": {
      "text/html": [
       "<div>\n",
       "<style scoped>\n",
       "    .dataframe tbody tr th:only-of-type {\n",
       "        vertical-align: middle;\n",
       "    }\n",
       "\n",
       "    .dataframe tbody tr th {\n",
       "        vertical-align: top;\n",
       "    }\n",
       "\n",
       "    .dataframe thead th {\n",
       "        text-align: right;\n",
       "    }\n",
       "</style>\n",
       "<table border=\"1\" class=\"dataframe\">\n",
       "  <thead>\n",
       "    <tr style=\"text-align: right;\">\n",
       "      <th></th>\n",
       "      <th>entity_id</th>\n",
       "      <th>park_id</th>\n",
       "      <th>posted_wait_minutes</th>\n",
       "      <th>response_timestamp</th>\n",
       "      <th>single_rider_is_available</th>\n",
       "      <th>single_rider_wait_minutes</th>\n",
       "      <th>status</th>\n",
       "      <th>type</th>\n",
       "    </tr>\n",
       "  </thead>\n",
       "  <tbody>\n",
       "    <tr>\n",
       "      <th>0</th>\n",
       "      <td>{'S': 'P1NA10'}</td>\n",
       "      <td>{'S': '0/P/P1'}</td>\n",
       "      <td>{'N': '115'}</td>\n",
       "      <td>{'S': '2020-02-22T11:46:24.006+0000'}</td>\n",
       "      <td>{'BOOL': False}</td>\n",
       "      <td>{'N': '-1'}</td>\n",
       "      <td>{'S': 'OPERATING'}</td>\n",
       "      <td>{'S': 'Attraction'}</td>\n",
       "    </tr>\n",
       "    <tr>\n",
       "      <th>1</th>\n",
       "      <td>{'S': 'P1NA10'}</td>\n",
       "      <td>{'S': '0/P/P1'}</td>\n",
       "      <td>{'N': '90'}</td>\n",
       "      <td>{'S': '2020-02-19T16:41:12.082+0000'}</td>\n",
       "      <td>{'BOOL': False}</td>\n",
       "      <td>{'N': '-1'}</td>\n",
       "      <td>{'S': 'OPERATING'}</td>\n",
       "      <td>{'S': 'Attraction'}</td>\n",
       "    </tr>\n",
       "    <tr>\n",
       "      <th>2</th>\n",
       "      <td>{'S': 'P1NA10'}</td>\n",
       "      <td>{'S': '0/P/P1'}</td>\n",
       "      <td>{'N': '90'}</td>\n",
       "      <td>{'S': '2020-02-21T11:45:39.517+0000'}</td>\n",
       "      <td>{'BOOL': False}</td>\n",
       "      <td>{'N': '-1'}</td>\n",
       "      <td>{'S': 'OPERATING'}</td>\n",
       "      <td>{'S': 'Attraction'}</td>\n",
       "    </tr>\n",
       "    <tr>\n",
       "      <th>3</th>\n",
       "      <td>{'S': 'P1NA10'}</td>\n",
       "      <td>{'S': '0/P/P1'}</td>\n",
       "      <td>{'N': '55'}</td>\n",
       "      <td>{'S': '2020-02-20T17:26:28.063+0000'}</td>\n",
       "      <td>{'BOOL': False}</td>\n",
       "      <td>{'N': '-1'}</td>\n",
       "      <td>{'S': 'OPERATING'}</td>\n",
       "      <td>{'S': 'Attraction'}</td>\n",
       "    </tr>\n",
       "    <tr>\n",
       "      <th>4</th>\n",
       "      <td>{'S': 'P1NA10'}</td>\n",
       "      <td>{'S': '0/P/P1'}</td>\n",
       "      <td>{'N': '70'}</td>\n",
       "      <td>{'S': '2020-02-24T11:06:11.849+0000'}</td>\n",
       "      <td>{'BOOL': False}</td>\n",
       "      <td>{'N': '-1'}</td>\n",
       "      <td>{'S': 'OPERATING'}</td>\n",
       "      <td>{'S': 'Attraction'}</td>\n",
       "    </tr>\n",
       "  </tbody>\n",
       "</table>\n",
       "</div>"
      ],
      "text/plain": [
       "         entity_id          park_id posted_wait_minutes  \\\n",
       "0  {'S': 'P1NA10'}  {'S': '0/P/P1'}        {'N': '115'}   \n",
       "1  {'S': 'P1NA10'}  {'S': '0/P/P1'}         {'N': '90'}   \n",
       "2  {'S': 'P1NA10'}  {'S': '0/P/P1'}         {'N': '90'}   \n",
       "3  {'S': 'P1NA10'}  {'S': '0/P/P1'}         {'N': '55'}   \n",
       "4  {'S': 'P1NA10'}  {'S': '0/P/P1'}         {'N': '70'}   \n",
       "\n",
       "                      response_timestamp single_rider_is_available  \\\n",
       "0  {'S': '2020-02-22T11:46:24.006+0000'}           {'BOOL': False}   \n",
       "1  {'S': '2020-02-19T16:41:12.082+0000'}           {'BOOL': False}   \n",
       "2  {'S': '2020-02-21T11:45:39.517+0000'}           {'BOOL': False}   \n",
       "3  {'S': '2020-02-20T17:26:28.063+0000'}           {'BOOL': False}   \n",
       "4  {'S': '2020-02-24T11:06:11.849+0000'}           {'BOOL': False}   \n",
       "\n",
       "  single_rider_wait_minutes              status                 type  \n",
       "0               {'N': '-1'}  {'S': 'OPERATING'}  {'S': 'Attraction'}  \n",
       "1               {'N': '-1'}  {'S': 'OPERATING'}  {'S': 'Attraction'}  \n",
       "2               {'N': '-1'}  {'S': 'OPERATING'}  {'S': 'Attraction'}  \n",
       "3               {'N': '-1'}  {'S': 'OPERATING'}  {'S': 'Attraction'}  \n",
       "4               {'N': '-1'}  {'S': 'OPERATING'}  {'S': 'Attraction'}  "
      ]
     },
     "execution_count": 16,
     "metadata": {},
     "output_type": "execute_result"
    }
   ],
   "source": [
    "df.head()"
   ]
  },
  {
   "cell_type": "code",
   "execution_count": 17,
   "metadata": {},
   "outputs": [],
   "source": [
    "df.posted_wait_minutes = df.posted_wait_minutes.astype('str').str.extract(r'\\D*(?P<minutes>\\d*)\\D*').astype('int')\n",
    "df.response_timestamp = df.response_timestamp.astype('str').str.extract(r'\\D*(?P<minutes>[0-9-:.+T]*)\\D*')\n",
    "df=df.set_index('response_timestamp')\n",
    "df=df.sort_values(by=['response_timestamp'])"
   ]
  },
  {
   "cell_type": "code",
   "execution_count": 19,
   "metadata": {},
   "outputs": [
    {
     "data": {
      "text/plain": [
       "<matplotlib.axes._subplots.AxesSubplot at 0x7fe15defc1d0>"
      ]
     },
     "execution_count": 19,
     "metadata": {},
     "output_type": "execute_result"
    },
    {
     "data": {
      "image/png": "[encoded data removed]",
      "text/plain": [
       "<Figure size 432x288 with 1 Axes>"
      ]
     },
     "metadata": {
      "needs_background": "light"
     },
     "output_type": "display_data"
    }
   ],
   "source": [
    "df.plot(y='posted_wait_minutes')"
   ]
  },
  {
   "cell_type": "code",
   "execution_count": null,
   "metadata": {},
   "outputs": [],
   "source": []
  },
  {
   "cell_type": "code",
   "execution_count": null,
   "metadata": {},
   "outputs": [],
   "source": []
  },
  {
   "cell_type": "code",
   "execution_count": null,
   "metadata": {},
   "outputs": [],
   "source": []
  }
 ],
 "metadata": {
  "kernelspec": {
   "display_name": "Python 3",
   "language": "python",
   "name": "python3"
  },
  "language_info": {
   "codemirror_mode": {
    "name": "ipython",
    "version": 3
   },
   "file_extension": ".py",
   "mimetype": "text/x-python",
   "name": "python",
   "nbconvert_exporter": "python",
   "pygments_lexer": "ipython3",
   "version": "3.7.5"
  },
  "pycharm": {
   "stem_cell": {
    "cell_type": "raw",
    "source": [],
    "metadata": {
     "collapsed": false
    }
   }
  }
 },
 "nbformat": 4,
 "nbformat_minor": 2
}